{
 "cells": [
  {
   "cell_type": "code",
   "execution_count": null,
   "metadata": {},
   "outputs": [],
   "source": [
    "import spacy\n",
    "import numpy as np\n",
    "import re\n",
    "import itertools\n",
    "from collections import Counter\n",
    "import json\n",
    "import pandas as pd\n",
    "import torch\n",
    "import dill as pickle\n",
    "import time\n",
    "from data_module.data_preprocessor import preprocess_question, get_label\n",
    "from collections import Counter\n",
    "from pandas_ml import ConfusionMatrix"
   ]
  },
  {
   "cell_type": "code",
   "execution_count": null,
   "metadata": {},
   "outputs": [],
   "source": [
    "df_test = pd.read_csv(\"ir_test_dataset.csv\")"
   ]
  },
  {
   "cell_type": "code",
   "execution_count": null,
   "metadata": {},
   "outputs": [],
   "source": [
    "model = torch.load('LSTM_related/lstm_model.model')"
   ]
  },
  {
   "cell_type": "code",
   "execution_count": null,
   "metadata": {},
   "outputs": [],
   "source": [
    "text_field = pickle.load(open(\"LSTM_related/text_vocab.pkl\", \"rb\"))\n",
    "label_field = pickle.load(open(\"LSTM_related/label_vocab.pkl\", \"rb\"))"
   ]
  },
  {
   "cell_type": "code",
   "execution_count": null,
   "metadata": {},
   "outputs": [],
   "source": [
    "def model_prediction(model, text_field, label_field, test_data):\n",
    "    res = []\n",
    "    time_predictions = []\n",
    "    for text in test_data:\n",
    "        start_time = time.time()\n",
    "        text = preprocess_question(text, text_field, use_gpu=True)\n",
    "        model.eval()\n",
    "        y = model(text)\n",
    "        label_string = get_label(y, label_field)\n",
    "        time_predictions.append(time.time() - start_time)\n",
    "        res.append(label_string)\n",
    "        del text\n",
    "        torch.cuda.empty_cache()\n",
    "    avg_time = np.average(time_predictions)\n",
    "    # return prediction results and avg time to predict a records\n",
    "    return res, avg_time"
   ]
  },
  {
   "cell_type": "code",
   "execution_count": null,
   "metadata": {},
   "outputs": [],
   "source": [
    "res_tmp, avg_time_tmp = model_prediction(model, text_field, label_field, df_test.text.values)"
   ]
  },
  {
   "cell_type": "code",
   "execution_count": null,
   "metadata": {},
   "outputs": [],
   "source": [
    "res_tmp # evaluation dataset prediction"
   ]
  },
  {
   "cell_type": "code",
   "execution_count": null,
   "metadata": {},
   "outputs": [],
   "source": [
    "avg_time_tmp"
   ]
  },
  {
   "cell_type": "code",
   "execution_count": null,
   "metadata": {},
   "outputs": [],
   "source": [
    "df_train = pd.read_csv(\"ir_train_dataset.csv\")"
   ]
  },
  {
   "cell_type": "code",
   "execution_count": null,
   "metadata": {},
   "outputs": [],
   "source": [
    "res_tmp_2, avg_time_tmp_2 = model_prediction(model, text_field, label_field, df_train.text.values)"
   ]
  },
  {
   "cell_type": "code",
   "execution_count": null,
   "metadata": {},
   "outputs": [],
   "source": [
    "avg_time_tmp_2"
   ]
  },
  {
   "cell_type": "code",
   "execution_count": null,
   "metadata": {},
   "outputs": [],
   "source": [
    "avg_time_all = (avg_time_tmp + avg_time_tmp_2)/2"
   ]
  },
  {
   "cell_type": "code",
   "execution_count": null,
   "metadata": {},
   "outputs": [],
   "source": [
    "avg_time_all #average time LSTM predict a record"
   ]
  },
  {
   "cell_type": "code",
   "execution_count": null,
   "metadata": {},
   "outputs": [],
   "source": [
    "1/avg_time_all #records per seconds"
   ]
  },
  {
   "cell_type": "code",
   "execution_count": null,
   "metadata": {},
   "outputs": [],
   "source": []
  }
 ],
 "metadata": {
  "kernelspec": {
   "display_name": "Pytorch_Python_3",
   "language": "python",
   "name": "pytorch_python_3"
  },
  "language_info": {
   "codemirror_mode": {
    "name": "ipython",
    "version": 3
   },
   "file_extension": ".py",
   "mimetype": "text/x-python",
   "name": "python",
   "nbconvert_exporter": "python",
   "pygments_lexer": "ipython3",
   "version": "3.5.2"
  }
 },
 "nbformat": 4,
 "nbformat_minor": 2
}
