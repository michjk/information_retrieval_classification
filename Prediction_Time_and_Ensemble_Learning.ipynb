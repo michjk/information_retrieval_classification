{
 "cells": [
  {
   "cell_type": "code",
   "execution_count": 21,
   "metadata": {},
   "outputs": [],
   "source": [
    "import spacy\n",
    "import numpy as np\n",
    "import re\n",
    "import itertools\n",
    "from collections import Counter\n",
    "import json\n",
    "import pandas as pd\n",
    "import torch\n",
    "import dill as pickle\n",
    "import time\n",
    "from data_module.data_preprocessor import preprocess_question, get_label\n",
    "from collections import Counter\n",
    "from pandas_ml import ConfusionMatrix"
   ]
  },
  {
   "cell_type": "markdown",
   "metadata": {},
   "source": [
    "## Load Test Dataset, Models, and Preprocessing Module"
   ]
  },
  {
   "cell_type": "code",
   "execution_count": 2,
   "metadata": {},
   "outputs": [],
   "source": [
    "df_test = pd.read_csv(\"ir_test_dataset.csv\")"
   ]
  },
  {
   "cell_type": "code",
   "execution_count": 3,
   "metadata": {},
   "outputs": [],
   "source": [
    "models = []\n",
    "models.append(torch.load('ensemble_learning_related/model1.model'))\n",
    "models.append(torch.load('ensemble_learning_related/model2.model'))\n",
    "models.append(torch.load('ensemble_learning_related/model3.model'))\n",
    "models.append(torch.load('ensemble_learning_related/model4.model'))"
   ]
  },
  {
   "cell_type": "code",
   "execution_count": 4,
   "metadata": {},
   "outputs": [],
   "source": [
    "text_field = pickle.load(open(\"ensemble_learning_related/text_vocab.pkl\", \"rb\"))\n",
    "label_field = pickle.load(open(\"ensemble_learning_related/label_vocab.pkl\", \"rb\"))"
   ]
  },
  {
   "cell_type": "markdown",
   "metadata": {},
   "source": [
    "## Create function for evaluation"
   ]
  },
  {
   "cell_type": "code",
   "execution_count": 11,
   "metadata": {},
   "outputs": [],
   "source": [
    "def model_prediction(model, text_field, label_field, test_data):\n",
    "    res = []\n",
    "    time_predictions = []\n",
    "    for text in test_data:\n",
    "        start_time = time.time()\n",
    "        text = preprocess_question(text, text_field, use_gpu=True)\n",
    "        model.eval()\n",
    "        y = model(text)\n",
    "        label_string = get_label(y, label_field)\n",
    "        time_predictions.append(time.time() - start_time)\n",
    "        res.append(label_string)\n",
    "        del text\n",
    "        torch.cuda.empty_cache()\n",
    "    avg_time = np.average(time_predictions)\n",
    "    return res, avg_time"
   ]
  },
  {
   "cell_type": "code",
   "execution_count": 12,
   "metadata": {},
   "outputs": [],
   "source": [
    "def most_voted(res_column_stack):\n",
    "    most_voted_res = []\n",
    "    for row in res_column_stack:\n",
    "        c = Counter(row)\n",
    "        most_voted_res.append(int(c.most_common(1)[0][0]))\n",
    "    return most_voted_res"
   ]
  },
  {
   "cell_type": "code",
   "execution_count": 13,
   "metadata": {},
   "outputs": [],
   "source": [
    "def ensemble_model_prediction(models, text_field, label_field, test_data):\n",
    "    res_all = []\n",
    "    avg_time_each_model = []\n",
    "    for model in models:\n",
    "        res_tmp, avg_time_tmp = model_prediction(model, text_field, label_field, test_data)\n",
    "        res_all.append(res_tmp)\n",
    "        avg_time_each_model.append(avg_time_tmp)\n",
    "    res_all = np.column_stack(res_all)\n",
    "    most_voted_res = most_voted(res_all)\n",
    "    return most_voted_res, avg_time_each_model"
   ]
  },
  {
   "cell_type": "markdown",
   "metadata": {},
   "source": [
    "## Run ensemble model"
   ]
  },
  {
   "cell_type": "code",
   "execution_count": 40,
   "metadata": {},
   "outputs": [
    {
     "name": "stderr",
     "output_type": "stream",
     "text": [
      "/home/michael/information_retrieval_classification/model_module/cnn_classifier.py:57: UserWarning: Implicit dimension choice for log_softmax has been deprecated. Change the call to include dim=X as an argument.\n",
      "  logloss = F.log_softmax(logit) # log of softmax\n"
     ]
    }
   ],
   "source": [
    "ensemble_res, avg_time_each_model = ensemble_model_prediction(models, text_field, label_field, df_test.text.values)"
   ]
  },
  {
   "cell_type": "code",
   "execution_count": 41,
   "metadata": {},
   "outputs": [
    {
     "data": {
      "text/plain": [
       "[0.0063748300075531,\n",
       " 0.0075662493705749515,\n",
       " 0.009007121801376344,\n",
       " 0.010398153305053712]"
      ]
     },
     "execution_count": 41,
     "metadata": {},
     "output_type": "execute_result"
    }
   ],
   "source": [
    "avg_time_each_model"
   ]
  },
  {
   "cell_type": "code",
   "execution_count": 29,
   "metadata": {},
   "outputs": [],
   "source": [
    "confusion_matrix = ConfusionMatrix(df_test.label, ensemble_res)"
   ]
  },
  {
   "cell_type": "code",
   "execution_count": 30,
   "metadata": {},
   "outputs": [
    {
     "name": "stdout",
     "output_type": "stream",
     "text": [
      "Confusion Matrix:\n",
      "\n",
      "Predicted  -1   0    1  __all__\n",
      "Actual                         \n",
      "-1         25   4   16       45\n",
      "0           6  50   18       74\n",
      "1           2  12  867      881\n",
      "__all__    33  66  901     1000\n",
      "\n",
      "\n",
      "Overall Statistics:\n",
      "\n",
      "Accuracy: 0.942\n",
      "95% CI: (0.9256635046176478, 0.955667139747181)\n",
      "No Information Rate: ToDo\n",
      "P-Value [Acc > NIR]: 2.183484722865502e-06\n",
      "Kappa: 0.7097823367525641\n",
      "Mcnemar's Test P-Value: ToDo\n",
      "\n",
      "\n",
      "Class Statistics:\n",
      "\n",
      "Classes                                        -1          0          1\n",
      "Population                                   1000       1000       1000\n",
      "P: Condition positive                          45         74        881\n",
      "N: Condition negative                         955        926        119\n",
      "Test outcome positive                          33         66        901\n",
      "Test outcome negative                         967        934         99\n",
      "TP: True Positive                              25         50        867\n",
      "TN: True Negative                             947        910         85\n",
      "FP: False Positive                              8         16         34\n",
      "FN: False Negative                             20         24         14\n",
      "TPR: (Sensitivity, hit rate, recall)     0.555556   0.675676   0.984109\n",
      "TNR=SPC: (Specificity)                   0.991623   0.982721   0.714286\n",
      "PPV: Pos Pred Value (Precision)          0.757576   0.757576   0.962264\n",
      "NPV: Neg Pred Value                      0.979317   0.974304   0.858586\n",
      "FPR: False-out                         0.00837696  0.0172786   0.285714\n",
      "FDR: False Discovery Rate                0.242424   0.242424  0.0377358\n",
      "FNR: Miss Rate                           0.444444   0.324324   0.015891\n",
      "ACC: Accuracy                               0.972       0.96      0.952\n",
      "F1 score                                 0.641026   0.714286   0.973064\n",
      "MCC: Matthews correlation coefficient     0.63499   0.694167   0.757151\n",
      "Informedness                             0.547179   0.658397   0.698395\n",
      "Markedness                               0.736893    0.73188    0.82085\n",
      "Prevalence                                  0.045      0.074      0.881\n",
      "LR+: Positive likelihood ratio            66.3194    39.1047    3.44438\n",
      "LR-: Negative likelihood ratio           0.448199   0.330027  0.0222474\n",
      "DOR: Diagnostic odds ratio                147.969     118.49    154.821\n",
      "FOR: False omission rate                0.0206825  0.0256959   0.141414\n"
     ]
    }
   ],
   "source": [
    "confusion_matrix.print_stats()"
   ]
  },
  {
   "cell_type": "markdown",
   "metadata": {},
   "source": [
    "## Calculate average time predictions"
   ]
  },
  {
   "cell_type": "code",
   "execution_count": 32,
   "metadata": {},
   "outputs": [],
   "source": [
    "avg_time_model_1 = avg_time_each_model[0]"
   ]
  },
  {
   "cell_type": "code",
   "execution_count": 31,
   "metadata": {},
   "outputs": [],
   "source": [
    "df_train = pd.read_csv(\"ir_train_dataset.csv\")"
   ]
  },
  {
   "cell_type": "code",
   "execution_count": 33,
   "metadata": {},
   "outputs": [
    {
     "name": "stderr",
     "output_type": "stream",
     "text": [
      "/home/michael/information_retrieval_classification/model_module/cnn_classifier.py:57: UserWarning: Implicit dimension choice for log_softmax has been deprecated. Change the call to include dim=X as an argument.\n",
      "  logloss = F.log_softmax(logit) # log of softmax\n"
     ]
    }
   ],
   "source": [
    "ensemble_res, avg_time_each_model = ensemble_model_prediction(models, text_field, label_field, df_train.text.values)"
   ]
  },
  {
   "cell_type": "code",
   "execution_count": 37,
   "metadata": {},
   "outputs": [],
   "source": [
    "avg_time_model_1 = (avg_time_each_model[0] + avg_time_model_1)/2"
   ]
  },
  {
   "cell_type": "code",
   "execution_count": 38,
   "metadata": {},
   "outputs": [
    {
     "data": {
      "text/plain": [
       "0.006443462557262845"
      ]
     },
     "execution_count": 38,
     "metadata": {},
     "output_type": "execute_result"
    }
   ],
   "source": [
    "avg_time_model_1"
   ]
  },
  {
   "cell_type": "code",
   "execution_count": 39,
   "metadata": {},
   "outputs": [
    {
     "data": {
      "text/plain": [
       "155.19605974474626"
      ]
     },
     "execution_count": 39,
     "metadata": {},
     "output_type": "execute_result"
    }
   ],
   "source": [
    "1/avg_time_model_1 #records per sec"
   ]
  },
  {
   "cell_type": "code",
   "execution_count": null,
   "metadata": {},
   "outputs": [],
   "source": []
  }
 ],
 "metadata": {
  "kernelspec": {
   "display_name": "Python 3",
   "language": "python",
   "name": "python3"
  },
  "language_info": {
   "codemirror_mode": {
    "name": "ipython",
    "version": 3
   },
   "file_extension": ".py",
   "mimetype": "text/x-python",
   "name": "python",
   "nbconvert_exporter": "python",
   "pygments_lexer": "ipython3",
   "version": "3.5.2"
  }
 },
 "nbformat": 4,
 "nbformat_minor": 2
}
