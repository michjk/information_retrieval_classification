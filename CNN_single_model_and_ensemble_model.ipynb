{
 "cells": [
  {
   "cell_type": "code",
   "execution_count": 1,
   "metadata": {},
   "outputs": [],
   "source": [
    "import spacy\n",
    "import numpy as np\n",
    "import re\n",
    "import itertools\n",
    "from collections import Counter\n",
    "import json\n",
    "import pandas as pd\n",
    "import torch\n",
    "import dill as pickle\n",
    "import time\n",
    "from data_module.data_preprocessor import preprocess_question, get_label\n",
    "from collections import Counter\n",
    "from pandas_ml import ConfusionMatrix"
   ]
  },
  {
   "cell_type": "markdown",
   "metadata": {},
   "source": [
    "## Load Test Dataset, Models, and Preprocessing Module"
   ]
  },
  {
   "cell_type": "code",
   "execution_count": 2,
   "metadata": {},
   "outputs": [],
   "source": [
    "df_test = pd.read_csv(\"ir_test_dataset.csv\")"
   ]
  },
  {
   "cell_type": "code",
   "execution_count": 3,
   "metadata": {},
   "outputs": [],
   "source": [
    "models = []\n",
    "models.append(torch.load('CNN_single_and_ensemble_learning_related/model1.model'))\n",
    "models.append(torch.load('CNN_single_and_ensemble_learning_related/model2.model'))\n",
    "models.append(torch.load('CNN_single_and_ensemble_learning_related/model3.model'))\n",
    "models.append(torch.load('CNN_single_and_ensemble_learning_related/model4.model'))"
   ]
  },
  {
   "cell_type": "code",
   "execution_count": 4,
   "metadata": {},
   "outputs": [],
   "source": [
    "text_field = pickle.load(open(\"CNN_single_and_ensemble_learning_related/text_vocab.pkl\", \"rb\"))\n",
    "label_field = pickle.load(open(\"CNN_single_and_ensemble_learning_related/label_vocab.pkl\", \"rb\"))"
   ]
  },
  {
   "cell_type": "markdown",
   "metadata": {},
   "source": [
    "## Create function for evaluation"
   ]
  },
  {
   "cell_type": "code",
   "execution_count": 5,
   "metadata": {},
   "outputs": [],
   "source": [
    "def model_prediction(model, text_field, label_field, test_data):\n",
    "    res = []\n",
    "    time_predictions = []\n",
    "    for text in test_data:\n",
    "        start_time = time.time()\n",
    "        text = preprocess_question(text, text_field, use_gpu=True)\n",
    "        model.eval()\n",
    "        y = model(text)\n",
    "        label_string = get_label(y, label_field)\n",
    "        time_predictions.append(time.time() - start_time)\n",
    "        res.append(label_string)\n",
    "        del text\n",
    "        torch.cuda.empty_cache()\n",
    "    avg_time = np.average(time_predictions)\n",
    "    #return prediction result and avg time to predict a comment\n",
    "    return res, avg_time"
   ]
  },
  {
   "cell_type": "code",
   "execution_count": 6,
   "metadata": {},
   "outputs": [],
   "source": [
    "def most_voted(res_column_stack):\n",
    "    most_voted_res = []\n",
    "    for row in res_column_stack:\n",
    "        c = Counter(row)\n",
    "        most_voted_res.append(int(c.most_common(1)[0][0]))\n",
    "    return most_voted_res"
   ]
  },
  {
   "cell_type": "code",
   "execution_count": 7,
   "metadata": {},
   "outputs": [],
   "source": [
    "def ensemble_model_prediction(models, text_field, label_field, test_data):\n",
    "    res_all = []\n",
    "    avg_time_each_model = []\n",
    "    for model in models:\n",
    "        res_tmp, avg_time_tmp = model_prediction(model, text_field, label_field, test_data)\n",
    "        res_all.append(res_tmp)\n",
    "        avg_time_each_model.append(avg_time_tmp)\n",
    "    res_all = np.column_stack(res_all)\n",
    "    most_voted_res = most_voted(res_all)\n",
    "    \n",
    "    #return prediction result and avg time of each model to predict a comment\n",
    "    return most_voted_res, avg_time_each_model"
   ]
  },
  {
   "cell_type": "markdown",
   "metadata": {},
   "source": [
    "## Run single model"
   ]
  },
  {
   "cell_type": "code",
   "execution_count": 8,
   "metadata": {},
   "outputs": [
    {
     "name": "stderr",
     "output_type": "stream",
     "text": [
      "/home/michael/coba2/model_module/cnn_classifier.py:57: UserWarning: Implicit dimension choice for log_softmax has been deprecated. Change the call to include dim=X as an argument.\n",
      "  logloss = F.log_softmax(logit) # log of softmax\n"
     ]
    }
   ],
   "source": [
    "single_res, avg_time = model_prediction(models[0], text_field, label_field, df_test.text.values)"
   ]
  },
  {
   "cell_type": "code",
   "execution_count": null,
   "metadata": {},
   "outputs": [],
   "source": [
    "single_res # evaluation dataset result"
   ]
  },
  {
   "cell_type": "markdown",
   "metadata": {},
   "source": [
    "## Run ensemble model"
   ]
  },
  {
   "cell_type": "code",
   "execution_count": 9,
   "metadata": {},
   "outputs": [
    {
     "name": "stderr",
     "output_type": "stream",
     "text": [
      "/home/michael/coba2/model_module/cnn_classifier.py:57: UserWarning: Implicit dimension choice for log_softmax has been deprecated. Change the call to include dim=X as an argument.\n",
      "  logloss = F.log_softmax(logit) # log of softmax\n"
     ]
    }
   ],
   "source": [
    "ensemble_res, avg_time_each_model = ensemble_model_prediction(models, text_field, label_field, df_test.text.values)"
   ]
  },
  {
   "cell_type": "code",
   "execution_count": null,
   "metadata": {},
   "outputs": [],
   "source": [
    "ensemble_res # evaluation dataset result"
   ]
  },
  {
   "cell_type": "code",
   "execution_count": 10,
   "metadata": {},
   "outputs": [],
   "source": [
    "confusion_matrix = ConfusionMatrix(df_test.label, ensemble_res)"
   ]
  },
  {
   "cell_type": "code",
   "execution_count": 11,
   "metadata": {},
   "outputs": [
    {
     "name": "stdout",
     "output_type": "stream",
     "text": [
      "Confusion Matrix:\n",
      "\n",
      "Predicted  -1   0    1  __all__\n",
      "Actual                         \n",
      "-1         25   4   16       45\n",
      "0           7  46   21       74\n",
      "1           2  12  867      881\n",
      "__all__    34  62  904     1000\n",
      "\n",
      "\n",
      "Overall Statistics:\n",
      "\n",
      "Accuracy: 0.938\n",
      "95% CI: (0.9212200503389666, 0.9521381518866409)\n",
      "No Information Rate: ToDo\n",
      "P-Value [Acc > NIR]: 7.163076138174108e-05\n",
      "Kappa: 0.686009176635031\n",
      "Mcnemar's Test P-Value: ToDo\n",
      "\n",
      "\n",
      "Class Statistics:\n",
      "\n",
      "Classes                                        -1          0          1\n",
      "Population                                   1000       1000       1000\n",
      "P: Condition positive                          45         74        881\n",
      "N: Condition negative                         955        926        119\n",
      "Test outcome positive                          34         62        904\n",
      "Test outcome negative                         966        938         96\n",
      "TP: True Positive                              25         46        867\n",
      "TN: True Negative                             946        910         82\n",
      "FP: False Positive                              9         16         37\n",
      "FN: False Negative                             20         28         14\n",
      "TPR: (Sensitivity, hit rate, recall)     0.555556   0.621622   0.984109\n",
      "TNR=SPC: (Specificity)                   0.990576   0.982721   0.689076\n",
      "PPV: Pos Pred Value (Precision)          0.735294   0.741935   0.959071\n",
      "NPV: Neg Pred Value                      0.979296   0.970149   0.854167\n",
      "FPR: False-out                         0.00942408  0.0172786   0.310924\n",
      "FDR: False Discovery Rate                0.264706   0.258065  0.0409292\n",
      "FNR: Miss Rate                           0.444444   0.378378   0.015891\n",
      "ACC: Accuracy                               0.971      0.956      0.949\n",
      "F1 score                                 0.632911   0.676471   0.971429\n",
      "MCC: Matthews correlation coefficient    0.624708   0.656006   0.739905\n",
      "Informedness                             0.546131   0.604343   0.673185\n",
      "Markedness                                0.71459   0.712085   0.813237\n",
      "Prevalence                                  0.045      0.074      0.881\n",
      "LR+: Positive likelihood ratio            58.9506    35.9764    3.16511\n",
      "LR-: Negative likelihood ratio           0.448673   0.385031  0.0230614\n",
      "DOR: Diagnostic odds ratio                131.389    93.4375    137.247\n",
      "FOR: False omission rate                0.0207039  0.0298507   0.145833\n"
     ]
    }
   ],
   "source": [
    "confusion_matrix.print_stats() #1 is Positive, 0 is Neutral, and -1 is Negative"
   ]
  },
  {
   "cell_type": "markdown",
   "metadata": {},
   "source": [
    "## Calculate average time predictions"
   ]
  },
  {
   "cell_type": "code",
   "execution_count": 12,
   "metadata": {},
   "outputs": [],
   "source": [
    "avg_time_model_1 = avg_time_each_model[0]"
   ]
  },
  {
   "cell_type": "code",
   "execution_count": 13,
   "metadata": {},
   "outputs": [],
   "source": [
    "df_train = pd.read_csv(\"ir_train_dataset.csv\")"
   ]
  },
  {
   "cell_type": "code",
   "execution_count": null,
   "metadata": {},
   "outputs": [
    {
     "name": "stderr",
     "output_type": "stream",
     "text": [
      "/home/michael/coba2/model_module/cnn_classifier.py:57: UserWarning: Implicit dimension choice for log_softmax has been deprecated. Change the call to include dim=X as an argument.\n",
      "  logloss = F.log_softmax(logit) # log of softmax\n"
     ]
    }
   ],
   "source": [
    "ensemble_res, avg_time_each_model = ensemble_model_prediction(models, text_field, label_field, df_train.text.values)"
   ]
  },
  {
   "cell_type": "code",
   "execution_count": null,
   "metadata": {},
   "outputs": [],
   "source": [
    "avg_time_model_1 = (avg_time_each_model[0] + avg_time_model_1)/2"
   ]
  },
  {
   "cell_type": "code",
   "execution_count": null,
   "metadata": {},
   "outputs": [],
   "source": [
    "avg_time_model_1 # average time to predict a comment"
   ]
  },
  {
   "cell_type": "code",
   "execution_count": null,
   "metadata": {},
   "outputs": [],
   "source": [
    "1/avg_time_model_1 #records per sec"
   ]
  },
  {
   "cell_type": "code",
   "execution_count": null,
   "metadata": {},
   "outputs": [],
   "source": []
  },
  {
   "cell_type": "code",
   "execution_count": null,
   "metadata": {},
   "outputs": [],
   "source": []
  }
 ],
 "metadata": {
  "kernelspec": {
   "display_name": "Pytorch_Python_3",
   "language": "python",
   "name": "pytorch_python_3"
  },
  "language_info": {
   "codemirror_mode": {
    "name": "ipython",
    "version": 3
   },
   "file_extension": ".py",
   "mimetype": "text/x-python",
   "name": "python",
   "nbconvert_exporter": "python",
   "pygments_lexer": "ipython3",
   "version": "3.5.2"
  }
 },
 "nbformat": 4,
 "nbformat_minor": 2
}
