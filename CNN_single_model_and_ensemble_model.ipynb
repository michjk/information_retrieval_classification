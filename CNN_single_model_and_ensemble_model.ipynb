{
 "cells": [
  {
   "cell_type": "code",
   "execution_count": null,
   "metadata": {},
   "outputs": [],
   "source": [
    "import spacy\n",
    "import numpy as np\n",
    "import re\n",
    "import itertools\n",
    "from collections import Counter\n",
    "import json\n",
    "import pandas as pd\n",
    "import torch\n",
    "import dill as pickle\n",
    "import time\n",
    "from data_module.data_preprocessor import preprocess_question, get_label\n",
    "from collections import Counter\n",
    "from pandas_ml import ConfusionMatrix"
   ]
  },
  {
   "cell_type": "markdown",
   "metadata": {},
   "source": [
    "## Load Test Dataset, Models, and Preprocessing Module"
   ]
  },
  {
   "cell_type": "code",
   "execution_count": null,
   "metadata": {},
   "outputs": [],
   "source": [
    "df_test = pd.read_csv(\"ir_test_dataset.csv\")"
   ]
  },
  {
   "cell_type": "code",
   "execution_count": null,
   "metadata": {},
   "outputs": [],
   "source": [
    "models = []\n",
    "models.append(torch.load('ensemble_learning_related/model1.model'))\n",
    "models.append(torch.load('ensemble_learning_related/model2.model'))\n",
    "models.append(torch.load('ensemble_learning_related/model3.model'))\n",
    "models.append(torch.load('ensemble_learning_related/model4.model'))"
   ]
  },
  {
   "cell_type": "code",
   "execution_count": null,
   "metadata": {},
   "outputs": [],
   "source": [
    "text_field = pickle.load(open(\"ensemble_learning_related/text_vocab.pkl\", \"rb\"))\n",
    "label_field = pickle.load(open(\"ensemble_learning_related/label_vocab.pkl\", \"rb\"))"
   ]
  },
  {
   "cell_type": "markdown",
   "metadata": {},
   "source": [
    "## Create function for evaluation"
   ]
  },
  {
   "cell_type": "code",
   "execution_count": null,
   "metadata": {},
   "outputs": [],
   "source": [
    "def model_prediction(model, text_field, label_field, test_data):\n",
    "    res = []\n",
    "    time_predictions = []\n",
    "    for text in test_data:\n",
    "        start_time = time.time()\n",
    "        text = preprocess_question(text, text_field, use_gpu=True)\n",
    "        model.eval()\n",
    "        y = model(text)\n",
    "        label_string = get_label(y, label_field)\n",
    "        time_predictions.append(time.time() - start_time)\n",
    "        res.append(label_string)\n",
    "        del text\n",
    "        torch.cuda.empty_cache()\n",
    "    avg_time = np.average(time_predictions)\n",
    "    #return prediction result and avg time to predict a comment\n",
    "    return res, avg_time"
   ]
  },
  {
   "cell_type": "code",
   "execution_count": null,
   "metadata": {},
   "outputs": [],
   "source": [
    "def most_voted(res_column_stack):\n",
    "    most_voted_res = []\n",
    "    for row in res_column_stack:\n",
    "        c = Counter(row)\n",
    "        most_voted_res.append(int(c.most_common(1)[0][0]))\n",
    "    return most_voted_res"
   ]
  },
  {
   "cell_type": "code",
   "execution_count": null,
   "metadata": {},
   "outputs": [],
   "source": [
    "def ensemble_model_prediction(models, text_field, label_field, test_data):\n",
    "    res_all = []\n",
    "    avg_time_each_model = []\n",
    "    for model in models:\n",
    "        res_tmp, avg_time_tmp = model_prediction(model, text_field, label_field, test_data)\n",
    "        res_all.append(res_tmp)\n",
    "        avg_time_each_model.append(avg_time_tmp)\n",
    "    res_all = np.column_stack(res_all)\n",
    "    most_voted_res = most_voted(res_all)\n",
    "    \n",
    "    #return prediction result and avg time of each model to predict a comment\n",
    "    return most_voted_res, avg_time_each_model"
   ]
  },
  {
   "cell_type": "markdown",
   "metadata": {},
   "source": [
    "## Run single model"
   ]
  },
  {
   "cell_type": "code",
   "execution_count": null,
   "metadata": {},
   "outputs": [],
   "source": [
    "single_res, avg_time = model_prediction(models[0], text_field, label_field, df_test.text.values)"
   ]
  },
  {
   "cell_type": "code",
   "execution_count": null,
   "metadata": {},
   "outputs": [],
   "source": [
    "single_res # evaluation dataset result"
   ]
  },
  {
   "cell_type": "markdown",
   "metadata": {},
   "source": [
    "## Run ensemble model"
   ]
  },
  {
   "cell_type": "code",
   "execution_count": null,
   "metadata": {},
   "outputs": [],
   "source": [
    "ensemble_res, avg_time_each_model = ensemble_model_prediction(models, text_field, label_field, df_test.text.values)"
   ]
  },
  {
   "cell_type": "code",
   "execution_count": null,
   "metadata": {},
   "outputs": [],
   "source": [
    "ensemble_res # evaluation dataset result"
   ]
  },
  {
   "cell_type": "code",
   "execution_count": null,
   "metadata": {},
   "outputs": [],
   "source": [
    "confusion_matrix = ConfusionMatrix(df_test.label, ensemble_res)"
   ]
  },
  {
   "cell_type": "code",
   "execution_count": null,
   "metadata": {},
   "outputs": [],
   "source": [
    "confusion_matrix.print_stats() #1 is Positive, 0 is Neutral, and -1 is Negative"
   ]
  },
  {
   "cell_type": "markdown",
   "metadata": {},
   "source": [
    "## Calculate average time predictions"
   ]
  },
  {
   "cell_type": "code",
   "execution_count": null,
   "metadata": {},
   "outputs": [],
   "source": [
    "avg_time_model_1 = avg_time_each_model[0]"
   ]
  },
  {
   "cell_type": "code",
   "execution_count": null,
   "metadata": {},
   "outputs": [],
   "source": [
    "df_train = pd.read_csv(\"ir_train_dataset.csv\")"
   ]
  },
  {
   "cell_type": "code",
   "execution_count": null,
   "metadata": {},
   "outputs": [],
   "source": [
    "ensemble_res, avg_time_each_model = ensemble_model_prediction(models, text_field, label_field, df_train.text.values)"
   ]
  },
  {
   "cell_type": "code",
   "execution_count": null,
   "metadata": {},
   "outputs": [],
   "source": [
    "avg_time_model_1 = (avg_time_each_model[0] + avg_time_model_1)/2"
   ]
  },
  {
   "cell_type": "code",
   "execution_count": null,
   "metadata": {},
   "outputs": [],
   "source": [
    "avg_time_model_1 # average time to predict a comment"
   ]
  },
  {
   "cell_type": "code",
   "execution_count": null,
   "metadata": {},
   "outputs": [],
   "source": [
    "1/avg_time_model_1 #records per sec"
   ]
  },
  {
   "cell_type": "code",
   "execution_count": null,
   "metadata": {},
   "outputs": [],
   "source": []
  },
  {
   "cell_type": "code",
   "execution_count": null,
   "metadata": {},
   "outputs": [],
   "source": []
  }
 ],
 "metadata": {
  "kernelspec": {
   "display_name": "Python 3",
   "language": "python",
   "name": "python3"
  },
  "language_info": {
   "codemirror_mode": {
    "name": "ipython",
    "version": 3
   },
   "file_extension": ".py",
   "mimetype": "text/x-python",
   "name": "python",
   "nbconvert_exporter": "python",
   "pygments_lexer": "ipython3",
   "version": "3.5.2"
  }
 },
 "nbformat": 4,
 "nbformat_minor": 2
}
